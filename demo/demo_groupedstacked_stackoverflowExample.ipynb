{
 "cells": [
  {
   "cell_type": "markdown",
   "metadata": {},
   "source": [
    "# Demo grouped_stacked_bars graph"
   ]
  },
  {
   "cell_type": "markdown",
   "metadata": {},
   "source": [
    "Required packages"
   ]
  },
  {
   "cell_type": "code",
   "execution_count": 33,
   "metadata": {
    "collapsed": true
   },
   "outputs": [],
   "source": [
    "import pandas as pd\n",
    "import numpy as np\n",
    "import seaborn as sns\n",
    "from matplotlib import pyplot as plt\n",
    "%matplotlib inline\n",
    "import sys\n",
    "sys.path.append('/home/bill/software/lca_standard_graphs/')\n",
    "import lca_standard_graphs as lsg\n",
    "import imp\n",
    "imp.reload(lsg)\n",
    "keep = ('Impact category', 'Technology')"
   ]
  },
  {
   "cell_type": "code",
   "execution_count": 34,
   "metadata": {},
   "outputs": [],
   "source": [
    "df1=pd.DataFrame(np.random.rand(4,2),index=[\"A\",\"B\",\"C\",\"D\"],columns=[\"I\",\"J\"])\n",
    "df1.index.name='Criteria'\n",
    "\n",
    "df2=pd.DataFrame(np.random.rand(4,2),index=[\"A\",\"B\",\"C\",\"D\"],columns=[\"I\",\"J\"])\n",
    "df2.index.name='Criteria'\n"
   ]
  },
  {
   "cell_type": "code",
   "execution_count": 37,
   "metadata": {},
   "outputs": [
    {
     "data": {
      "text/html": [
       "<div>\n",
       "<style scoped>\n",
       "    .dataframe tbody tr th:only-of-type {\n",
       "        vertical-align: middle;\n",
       "    }\n",
       "\n",
       "    .dataframe tbody tr th {\n",
       "        vertical-align: top;\n",
       "    }\n",
       "\n",
       "    .dataframe thead th {\n",
       "        text-align: right;\n",
       "    }\n",
       "</style>\n",
       "<table border=\"1\" class=\"dataframe\">\n",
       "  <thead>\n",
       "    <tr style=\"text-align: right;\">\n",
       "      <th></th>\n",
       "      <th></th>\n",
       "      <th>I</th>\n",
       "      <th>J</th>\n",
       "    </tr>\n",
       "    <tr>\n",
       "      <th>Criteria</th>\n",
       "      <th>Scenarios</th>\n",
       "      <th></th>\n",
       "      <th></th>\n",
       "    </tr>\n",
       "  </thead>\n",
       "  <tbody>\n",
       "    <tr>\n",
       "      <th rowspan=\"2\" valign=\"top\">A</th>\n",
       "      <th>df1</th>\n",
       "      <td>0.229626</td>\n",
       "      <td>0.453421</td>\n",
       "    </tr>\n",
       "    <tr>\n",
       "      <th>df2</th>\n",
       "      <td>0.847167</td>\n",
       "      <td>0.970387</td>\n",
       "    </tr>\n",
       "    <tr>\n",
       "      <th rowspan=\"2\" valign=\"top\">B</th>\n",
       "      <th>df1</th>\n",
       "      <td>0.112371</td>\n",
       "      <td>0.629149</td>\n",
       "    </tr>\n",
       "    <tr>\n",
       "      <th>df2</th>\n",
       "      <td>0.922247</td>\n",
       "      <td>0.227417</td>\n",
       "    </tr>\n",
       "    <tr>\n",
       "      <th rowspan=\"2\" valign=\"top\">C</th>\n",
       "      <th>df1</th>\n",
       "      <td>0.608391</td>\n",
       "      <td>0.557421</td>\n",
       "    </tr>\n",
       "    <tr>\n",
       "      <th>df2</th>\n",
       "      <td>0.008146</td>\n",
       "      <td>0.567796</td>\n",
       "    </tr>\n",
       "    <tr>\n",
       "      <th rowspan=\"2\" valign=\"top\">D</th>\n",
       "      <th>df1</th>\n",
       "      <td>0.435628</td>\n",
       "      <td>0.585875</td>\n",
       "    </tr>\n",
       "    <tr>\n",
       "      <th>df2</th>\n",
       "      <td>0.074143</td>\n",
       "      <td>0.876135</td>\n",
       "    </tr>\n",
       "  </tbody>\n",
       "</table>\n",
       "</div>"
      ],
      "text/plain": [
       "                           I         J\n",
       "Criteria Scenarios                    \n",
       "A        df1        0.229626  0.453421\n",
       "         df2        0.847167  0.970387\n",
       "B        df1        0.112371  0.629149\n",
       "         df2        0.922247  0.227417\n",
       "C        df1        0.608391  0.557421\n",
       "         df2        0.008146  0.567796\n",
       "D        df1        0.435628  0.585875\n",
       "         df2        0.074143  0.876135"
      ]
     },
     "execution_count": 37,
     "metadata": {},
     "output_type": "execute_result"
    }
   ],
   "source": [
    "comp = lsg.build_comparison_table(df1, df2, 'df1', 'df2', fillna=0.0)\n",
    "comp"
   ]
  },
  {
   "cell_type": "code",
   "execution_count": 39,
   "metadata": {},
   "outputs": [
    {
     "data": {
      "text/plain": [
       "(<matplotlib.axes._subplots.AxesSubplot at 0x7f24b0adde10>,\n",
       " <Figure size 432x288 with 1 Axes>)"
      ]
     },
     "execution_count": 39,
     "metadata": {},
     "output_type": "execute_result"
    },
    {
     "data": {
      "image/png": "[encoded data removed]",
      "text/plain": [
       "<Figure size 432x288 with 1 Axes>"
      ]
     },
     "metadata": {},
     "output_type": "display_data"
    }
   ],
   "source": [
    "lsg.plot_grouped_stackedbar_comparison(comp, ix_categories='Criteria', ix_entities_compared='Scenarios', norm=None )"
   ]
  },
  {
   "cell_type": "code",
   "execution_count": 40,
   "metadata": {},
   "outputs": [
    {
     "data": {
      "text/plain": [
       "(<matplotlib.axes._subplots.AxesSubplot at 0x7f24b0b23c50>,\n",
       " <Figure size 432x288 with 1 Axes>)"
      ]
     },
     "execution_count": 40,
     "metadata": {},
     "output_type": "execute_result"
    },
    {
     "data": {
      "image/png": "[encoded data removed]",
      "text/plain": [
       "<Figure size 432x288 with 1 Axes>"
      ]
     },
     "metadata": {},
     "output_type": "display_data"
    }
   ],
   "source": [
    "lsg.plot_grouped_stackedbar_comparison(comp, ix_categories='Criteria', ix_entities_compared='Scenarios', norm='max', orient='v' )"
   ]
  },
  {
   "cell_type": "code",
   "execution_count": null,
   "metadata": {
    "collapsed": true
   },
   "outputs": [],
   "source": [
    "lsg"
   ]
  },
  {
   "cell_type": "code",
   "execution_count": 41,
   "metadata": {},
   "outputs": [
    {
     "data": {
      "text/html": [
       "<div>\n",
       "<style scoped>\n",
       "    .dataframe tbody tr th:only-of-type {\n",
       "        vertical-align: middle;\n",
       "    }\n",
       "\n",
       "    .dataframe tbody tr th {\n",
       "        vertical-align: top;\n",
       "    }\n",
       "\n",
       "    .dataframe thead th {\n",
       "        text-align: right;\n",
       "    }\n",
       "</style>\n",
       "<table border=\"1\" class=\"dataframe\">\n",
       "  <thead>\n",
       "    <tr style=\"text-align: right;\">\n",
       "      <th></th>\n",
       "      <th></th>\n",
       "      <th>ccs</th>\n",
       "      <th>fuel provision</th>\n",
       "      <th>infrastructure</th>\n",
       "      <th>operation</th>\n",
       "      <th>pollution control</th>\n",
       "      <th>transmission</th>\n",
       "    </tr>\n",
       "    <tr>\n",
       "      <th>Impact category</th>\n",
       "      <th>Technology</th>\n",
       "      <th></th>\n",
       "      <th></th>\n",
       "      <th></th>\n",
       "      <th></th>\n",
       "      <th></th>\n",
       "      <th></th>\n",
       "    </tr>\n",
       "  </thead>\n",
       "  <tbody>\n",
       "    <tr>\n",
       "      <th rowspan=\"2\" valign=\"top\">Ammonia emissions</th>\n",
       "      <th>tech1</th>\n",
       "      <td>5.555556</td>\n",
       "      <td>11.111111</td>\n",
       "      <td>22.222222</td>\n",
       "      <td>33.333333</td>\n",
       "      <td>50.000000</td>\n",
       "      <td>66.666667</td>\n",
       "    </tr>\n",
       "    <tr>\n",
       "      <th>tech2</th>\n",
       "      <td>11.111111</td>\n",
       "      <td>22.222222</td>\n",
       "      <td>38.888889</td>\n",
       "      <td>55.555556</td>\n",
       "      <td>77.777778</td>\n",
       "      <td>100.000000</td>\n",
       "    </tr>\n",
       "    <tr>\n",
       "      <th rowspan=\"2\" valign=\"top\">Carbon monoxide emission</th>\n",
       "      <th>tech1</th>\n",
       "      <td>5.555556</td>\n",
       "      <td>11.111111</td>\n",
       "      <td>16.666667</td>\n",
       "      <td>27.777778</td>\n",
       "      <td>38.888889</td>\n",
       "      <td>50.000000</td>\n",
       "    </tr>\n",
       "    <tr>\n",
       "      <th>tech2</th>\n",
       "      <td>22.222222</td>\n",
       "      <td>44.444444</td>\n",
       "      <td>66.666667</td>\n",
       "      <td>77.777778</td>\n",
       "      <td>88.888889</td>\n",
       "      <td>100.000000</td>\n",
       "    </tr>\n",
       "    <tr>\n",
       "      <th rowspan=\"2\" valign=\"top\">Climate change</th>\n",
       "      <th>tech1</th>\n",
       "      <td>5.555556</td>\n",
       "      <td>11.111111</td>\n",
       "      <td>16.666667</td>\n",
       "      <td>27.777778</td>\n",
       "      <td>38.888889</td>\n",
       "      <td>50.000000</td>\n",
       "    </tr>\n",
       "    <tr>\n",
       "      <th>tech2</th>\n",
       "      <td>22.222222</td>\n",
       "      <td>44.444444</td>\n",
       "      <td>66.666667</td>\n",
       "      <td>77.777778</td>\n",
       "      <td>88.888889</td>\n",
       "      <td>100.000000</td>\n",
       "    </tr>\n",
       "  </tbody>\n",
       "</table>\n",
       "</div>"
      ],
      "text/plain": [
       "                                           ccs  fuel provision  \\\n",
       "Impact category          Technology                              \n",
       "Ammonia emissions        tech1        5.555556       11.111111   \n",
       "                         tech2       11.111111       22.222222   \n",
       "Carbon monoxide emission tech1        5.555556       11.111111   \n",
       "                         tech2       22.222222       44.444444   \n",
       "Climate change           tech1        5.555556       11.111111   \n",
       "                         tech2       22.222222       44.444444   \n",
       "\n",
       "                                     infrastructure  operation  \\\n",
       "Impact category          Technology                              \n",
       "Ammonia emissions        tech1            22.222222  33.333333   \n",
       "                         tech2            38.888889  55.555556   \n",
       "Carbon monoxide emission tech1            16.666667  27.777778   \n",
       "                         tech2            66.666667  77.777778   \n",
       "Climate change           tech1            16.666667  27.777778   \n",
       "                         tech2            66.666667  77.777778   \n",
       "\n",
       "                                     pollution control  transmission  \n",
       "Impact category          Technology                                   \n",
       "Ammonia emissions        tech1               50.000000     66.666667  \n",
       "                         tech2               77.777778    100.000000  \n",
       "Carbon monoxide emission tech1               38.888889     50.000000  \n",
       "                         tech2               88.888889    100.000000  \n",
       "Climate change           tech1               38.888889     50.000000  \n",
       "                         tech2               88.888889    100.000000  "
      ]
     },
     "execution_count": 41,
     "metadata": {},
     "output_type": "execute_result"
    }
   ],
   "source": [
    "df1 = pd.read_csv('demoData_2technologies_ordered.csv', index_col=[0,1])\n",
    "df1"
   ]
  },
  {
   "cell_type": "code",
   "execution_count": 46,
   "metadata": {},
   "outputs": [
    {
     "data": {
      "image/png": "[encoded data removed]",
      "text/plain": [
       "<Figure size 432x288 with 1 Axes>"
      ]
     },
     "metadata": {},
     "output_type": "display_data"
    }
   ],
   "source": [
    "ax, fig = lsg.plot_grouped_stackedbar_comparison(df1, \n",
    "                                                 ix_categories='Impact category', \n",
    "                                                 ix_entities_compared='Technology', norm='tech1')\n",
    "_ = ax.xaxis.set_label_text('Relative (%) performance')"
   ]
  },
  {
   "cell_type": "markdown",
   "metadata": {
    "collapsed": true
   },
   "source": [
    "# Robust to different order? yes"
   ]
  },
  {
   "cell_type": "code",
   "execution_count": 55,
   "metadata": {
    "collapsed": true
   },
   "outputs": [],
   "source": [
    "comp2 = pd.read_csv('demoData_2technologies_disordered.csv', index_col=[0,1])\n"
   ]
  },
  {
   "cell_type": "code",
   "execution_count": 57,
   "metadata": {},
   "outputs": [
    {
     "data": {
      "image/png": "[encoded data removed]",
      "text/plain": [
       "<Figure size 432x288 with 1 Axes>"
      ]
     },
     "metadata": {},
     "output_type": "display_data"
    }
   ],
   "source": [
    "ax, fig = lsg.plot_grouped_stackedbar_comparison(comp2, \n",
    "                                                 ix_categories='Impact category', \n",
    "                                                 ix_entities_compared='Technology')\n",
    "_ = ax.xaxis.set_label_text('Relative (%) performance')"
   ]
  },
  {
   "cell_type": "markdown",
   "metadata": {
    "collapsed": true
   },
   "source": [
    "# 3 technologies compared"
   ]
  },
  {
   "cell_type": "code",
   "execution_count": 63,
   "metadata": {},
   "outputs": [],
   "source": [
    "comp3 = pd.read_csv('demoData_3technologies_ordered.csv', index_col=[0,1])\n"
   ]
  },
  {
   "cell_type": "code",
   "execution_count": 64,
   "metadata": {},
   "outputs": [
    {
     "data": {
      "text/plain": [
       "(<matplotlib.axes._subplots.AxesSubplot at 0x7f24b079fd68>,\n",
       " <Figure size 432x288 with 1 Axes>)"
      ]
     },
     "execution_count": 64,
     "metadata": {},
     "output_type": "execute_result"
    },
    {
     "data": {
      "image/png": "[encoded data removed]",
      "text/plain": [
       "<Figure size 432x288 with 1 Axes>"
      ]
     },
     "metadata": {},
     "output_type": "display_data"
    }
   ],
   "source": [
    "lsg.plot_grouped_stackedbar_comparison(comp3, ix_categories='Impact category',\n",
    "                                       ix_entities_compared='Technology', orient='h')"
   ]
  },
  {
   "cell_type": "markdown",
   "metadata": {},
   "source": [
    "# N technologies compared"
   ]
  },
  {
   "cell_type": "code",
   "execution_count": 86,
   "metadata": {},
   "outputs": [
    {
     "data": {
      "text/plain": [
       "(<matplotlib.axes._subplots.AxesSubplot at 0x7f02e605f208>,\n",
       " <Figure size 432x288 with 1 Axes>)"
      ]
     },
     "execution_count": 86,
     "metadata": {},
     "output_type": "execute_result"
    },
    {
     "data": {
      "image/png": "[encoded data removed]",
      "text/plain": [
       "<Figure size 432x288 with 1 Axes>"
      ]
     },
     "metadata": {},
     "output_type": "display_data"
    }
   ],
   "source": [
    "df4 = pd.read_csv('demoData_ntechnologies_ordered.csv')\n",
    "df4tidy = df4.melt(id_vars=keep, var_name='stages')\n",
    "lsg.grouped_stackedbar_graph(df4tidy, categories='Impact category', \n",
    "                             stacked_portions='stages', \n",
    "                             values='value', \n",
    "                             entities_compared='Technology', orient='h')"
   ]
  },
  {
   "cell_type": "markdown",
   "metadata": {},
   "source": [
    "## What we want from this dataframe"
   ]
  },
  {
   "cell_type": "markdown",
   "metadata": {},
   "source": [
    "### Summary results: Impact per life cycle stage"
   ]
  },
  {
   "cell_type": "markdown",
   "metadata": {},
   "source": [
    "#### For one scenario, tabular:"
   ]
  },
  {
   "cell_type": "code",
   "execution_count": null,
   "metadata": {
    "collapsed": true
   },
   "outputs": [],
   "source": [
    "def calc_total_lcstage_impacts(df):\n",
    "    return pd.crosstab(index=df['Impact category'],\n",
    "                     columns=df['Life cycle stage'],\n",
    "                     values=df['Impact'],\n",
    "                     aggfunc='sum',\n",
    "                     margins=True,\n",
    "                     margins_name='Total').iloc[:-1, :]"
   ]
  },
  {
   "cell_type": "code",
   "execution_count": null,
   "metadata": {
    "collapsed": true
   },
   "outputs": [],
   "source": [
    "def build_comparison_table(df1, df2, name1, name2, fillna=None):\n",
    "    \n",
    "    column_name = 'Technology'\n",
    "    a = calc_total_lcstage_impacts(df1)\n",
    "    a.insert(0, column_name, name1, allow_duplicates=True)\n",
    "\n",
    "    b = calc_total_lcstage_impacts(df2)\n",
    "    b.insert(0, column_name, name2, allow_duplicates=True)\n",
    "    comp = pd.concat([a,b], sort=False)\n",
    "    comp.sort_index(inplace=True)\n",
    "    comp.set_index('Technology', append=True, inplace=True)\n",
    "\n",
    "    if fillna is not None:\n",
    "        comp.fillna(fillna, inplace=True)\n",
    "        \n",
    "    return comp\n"
   ]
  },
  {
   "cell_type": "code",
   "execution_count": null,
   "metadata": {
    "collapsed": true
   },
   "outputs": [],
   "source": [
    "comp = build_comparison_table(tidy_df_static_1, tidy_df_static_2, 'tech1', 'tech2', fillna=0.0)"
   ]
  },
  {
   "cell_type": "code",
   "execution_count": null,
   "metadata": {
    "collapsed": true
   },
   "outputs": [],
   "source": [
    "foo = comp.head(6)\n",
    "foo = foo.reset_index()\n",
    "foo"
   ]
  },
  {
   "cell_type": "code",
   "execution_count": null,
   "metadata": {
    "collapsed": true
   },
   "outputs": [],
   "source": [
    "foo = foo.reset_index()\n",
    "foo.to_excel('dummy_data.xlsx')\n",
    "foo = foo.set_index(['Impact category', 'Technology'])"
   ]
  },
  {
   "cell_type": "code",
   "execution_count": null,
   "metadata": {
    "collapsed": true
   },
   "outputs": [],
   "source": [
    "foo = pd.read_excel('dummy_data.xlsx')\n",
    "foo"
   ]
  },
  {
   "cell_type": "code",
   "execution_count": null,
   "metadata": {
    "collapsed": true
   },
   "outputs": [],
   "source": [
    "max_imp = foo.loc[:, ['Impact category', 'Total']].groupby('Impact category').max()\n",
    "max_imp = max_imp.squeeze()\n",
    "foo = foo.set_index(['Impact category', 'Technology'])\n",
    "foo"
   ]
  },
  {
   "cell_type": "code",
   "execution_count": null,
   "metadata": {
    "collapsed": true
   },
   "outputs": [],
   "source": [
    "max_imp = max_imp.reindex(foo.index, level='Impact category')\n",
    "max_imp"
   ]
  },
  {
   "cell_type": "code",
   "execution_count": null,
   "metadata": {
    "collapsed": true
   },
   "outputs": [],
   "source": [
    "foo = foo.divide(max_imp, axis=0) * 100"
   ]
  },
  {
   "cell_type": "code",
   "execution_count": null,
   "metadata": {
    "collapsed": true
   },
   "outputs": [],
   "source": [
    "foo = foo.drop('Total', axis=1)"
   ]
  },
  {
   "cell_type": "code",
   "execution_count": null,
   "metadata": {
    "collapsed": true
   },
   "outputs": [],
   "source": [
    "fou = foo.cumsum(axis=1)\n",
    "fou = fou.reset_index()"
   ]
  },
  {
   "cell_type": "code",
   "execution_count": null,
   "metadata": {
    "collapsed": true
   },
   "outputs": [],
   "source": [
    "fou.to_csv('demoData_2technologies_ordered.csv')"
   ]
  },
  {
   "cell_type": "code",
   "execution_count": null,
   "metadata": {
    "collapsed": true
   },
   "outputs": [],
   "source": [
    "stages = [i for i in fou.columns.tolist() if i not in  ['Impact category', 'Technology']]\n",
    "stages_rev = [i for i in reversed(stages)]    "
   ]
  },
  {
   "cell_type": "code",
   "execution_count": null,
   "metadata": {
    "collapsed": true,
    "scrolled": true
   },
   "outputs": [],
   "source": [
    "fou_tidy = pd.melt(fou, id_vars=['Impact category', 'Technology'])"
   ]
  },
  {
   "cell_type": "code",
   "execution_count": null,
   "metadata": {
    "collapsed": true
   },
   "outputs": [],
   "source": [
    "\n",
    "fou_tidy['variable']"
   ]
  },
  {
   "cell_type": "code",
   "execution_count": null,
   "metadata": {
    "collapsed": true
   },
   "outputs": [],
   "source": [
    "from matplotlib.patches import Patch\n",
    "\n",
    "-\n",
    "plt.show()"
   ]
  },
  {
   "cell_type": "code",
   "execution_count": null,
   "metadata": {
    "collapsed": true
   },
   "outputs": [],
   "source": [
    "legend_elements.reverse()"
   ]
  },
  {
   "cell_type": "code",
   "execution_count": null,
   "metadata": {
    "collapsed": true,
    "scrolled": true
   },
   "outputs": [],
   "source": [
    "g[1]"
   ]
  },
  {
   "cell_type": "code",
   "execution_count": null,
   "metadata": {
    "collapsed": true
   },
   "outputs": [],
   "source": [
    "summary = pd.crosstab(index=tidy_df_static_1['Impact category'],\n",
    "                     columns=tidy_df_static_1['Life cycle stage'],\n",
    "                     values=tidy_df_static_1['Impact'],\n",
    "                     aggfunc='sum',\n",
    "                     margins=True,\n",
    "                     margins_name='Total').iloc[:-1, :]\n",
    "summary.tail()"
   ]
  },
  {
   "cell_type": "code",
   "execution_count": null,
   "metadata": {
    "collapsed": true
   },
   "outputs": [],
   "source": [
    "np.allclose(summary, summary2)"
   ]
  },
  {
   "cell_type": "markdown",
   "metadata": {},
   "source": [
    "NOTE: we will add columns with precentiles from `tidy_df_stochastic`"
   ]
  },
  {
   "cell_type": "markdown",
   "metadata": {},
   "source": [
    "#### For two scenarios, tabular (OUTPUT IN GUI)\n",
    "\n",
    "Similar to above, but repeated for other scenario (there are always two scenarios)"
   ]
  },
  {
   "cell_type": "markdown",
   "metadata": {},
   "source": [
    "#### For two scenarios, graphic\n",
    "\n",
    "Same results, but as stacked bars (stack life cycle stages). \n",
    "\n",
    "Bars in pairs ('scen1', 'scen2'), normalized to scenario with highest impacts for given impact category.\n",
    "\n",
    "As may pairs as there are impact categories. **We need to determine how many categories we can fit, we will have to limit the number for sure**)\n",
    "\n",
    "Display impact category labels.\n",
    "\n",
    "Legend = Life cycle stages.\n",
    "\n"
   ]
  }
 ],
 "metadata": {
  "kernelspec": {
   "display_name": "Python 3",
   "language": "python",
   "name": "python3"
  },
  "language_info": {
   "codemirror_mode": {
    "name": "ipython",
    "version": 3
   },
   "file_extension": ".py",
   "mimetype": "text/x-python",
   "name": "python",
   "nbconvert_exporter": "python",
   "pygments_lexer": "ipython3",
   "version": "3.5.3"
  },
  "toc": {
   "nav_menu": {},
   "number_sections": true,
   "sideBar": true,
   "skip_h1_title": false,
   "title_cell": "Table of Contents",
   "title_sidebar": "Contents",
   "toc_cell": false,
   "toc_position": {},
   "toc_section_display": true,
   "toc_window_display": false
  },
  "varInspector": {
   "cols": {
    "lenName": 16,
    "lenType": 16,
    "lenVar": 40
   },
   "kernels_config": {
    "python": {
     "delete_cmd_postfix": "",
     "delete_cmd_prefix": "del ",
     "library": "var_list.py",
     "varRefreshCmd": "print(var_dic_list())"
    },
    "r": {
     "delete_cmd_postfix": ") ",
     "delete_cmd_prefix": "rm(",
     "library": "var_list.r",
     "varRefreshCmd": "cat(var_dic_list()) "
    }
   },
   "types_to_exclude": [
    "module",
    "function",
    "builtin_function_or_method",
    "instance",
    "_Feature"
   ],
   "window_display": false
  }
 },
 "nbformat": 4,
 "nbformat_minor": 2
}
