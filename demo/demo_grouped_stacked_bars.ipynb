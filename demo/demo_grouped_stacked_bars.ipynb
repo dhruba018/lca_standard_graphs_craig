{
 "cells": [
  {
   "cell_type": "markdown",
   "metadata": {},
   "source": [
    "# Demo grouped_stacked_bars graph"
   ]
  },
  {
   "cell_type": "markdown",
   "metadata": {},
   "source": [
    "Required packages"
   ]
  },
  {
   "cell_type": "code",
   "execution_count": 1,
   "metadata": {
    "collapsed": true
   },
   "outputs": [],
   "source": [
    "import pandas as pd\n",
    "import numpy as np\n",
    "import seaborn as sns\n",
    "from matplotlib import pyplot as plt\n",
    "%matplotlib inline\n",
    "import sys\n",
    "sys.path.append('/home/bill/software/lca_standard_graphs/')\n",
    "import lca_standard_graphs as lsg\n",
    "import imp\n",
    "imp.reload(lsg)\n",
    "keep = ('Impact category', 'Technology')"
   ]
  },
  {
   "cell_type": "markdown",
   "metadata": {},
   "source": [
    "## DataFrame saved as pickle. Load it:"
   ]
  },
  {
   "cell_type": "code",
   "execution_count": 2,
   "metadata": {},
   "outputs": [
    {
     "data": {
      "text/html": [
       "<div>\n",
       "<style scoped>\n",
       "    .dataframe tbody tr th:only-of-type {\n",
       "        vertical-align: middle;\n",
       "    }\n",
       "\n",
       "    .dataframe tbody tr th {\n",
       "        vertical-align: top;\n",
       "    }\n",
       "\n",
       "    .dataframe thead th {\n",
       "        text-align: right;\n",
       "    }\n",
       "</style>\n",
       "<table border=\"1\" class=\"dataframe\">\n",
       "  <thead>\n",
       "    <tr style=\"text-align: right;\">\n",
       "      <th></th>\n",
       "      <th></th>\n",
       "      <th>ccs</th>\n",
       "      <th>fuel provision</th>\n",
       "      <th>infrastructure</th>\n",
       "      <th>operation</th>\n",
       "      <th>pollution control</th>\n",
       "      <th>transmission</th>\n",
       "    </tr>\n",
       "    <tr>\n",
       "      <th>Impact category</th>\n",
       "      <th>Technology</th>\n",
       "      <th></th>\n",
       "      <th></th>\n",
       "      <th></th>\n",
       "      <th></th>\n",
       "      <th></th>\n",
       "      <th></th>\n",
       "    </tr>\n",
       "  </thead>\n",
       "  <tbody>\n",
       "    <tr>\n",
       "      <th rowspan=\"2\" valign=\"top\">Ammonia emissions</th>\n",
       "      <th>tech1</th>\n",
       "      <td>5.555556</td>\n",
       "      <td>11.111111</td>\n",
       "      <td>22.222222</td>\n",
       "      <td>33.333333</td>\n",
       "      <td>50.000000</td>\n",
       "      <td>66.666667</td>\n",
       "    </tr>\n",
       "    <tr>\n",
       "      <th>tech2</th>\n",
       "      <td>11.111111</td>\n",
       "      <td>22.222222</td>\n",
       "      <td>38.888889</td>\n",
       "      <td>55.555556</td>\n",
       "      <td>77.777778</td>\n",
       "      <td>100.000000</td>\n",
       "    </tr>\n",
       "    <tr>\n",
       "      <th rowspan=\"2\" valign=\"top\">Carbon monoxide emission</th>\n",
       "      <th>tech1</th>\n",
       "      <td>5.555556</td>\n",
       "      <td>11.111111</td>\n",
       "      <td>16.666667</td>\n",
       "      <td>27.777778</td>\n",
       "      <td>38.888889</td>\n",
       "      <td>50.000000</td>\n",
       "    </tr>\n",
       "    <tr>\n",
       "      <th>tech2</th>\n",
       "      <td>22.222222</td>\n",
       "      <td>44.444444</td>\n",
       "      <td>66.666667</td>\n",
       "      <td>77.777778</td>\n",
       "      <td>88.888889</td>\n",
       "      <td>100.000000</td>\n",
       "    </tr>\n",
       "    <tr>\n",
       "      <th rowspan=\"2\" valign=\"top\">Climate change</th>\n",
       "      <th>tech1</th>\n",
       "      <td>5.555556</td>\n",
       "      <td>11.111111</td>\n",
       "      <td>16.666667</td>\n",
       "      <td>27.777778</td>\n",
       "      <td>38.888889</td>\n",
       "      <td>50.000000</td>\n",
       "    </tr>\n",
       "    <tr>\n",
       "      <th>tech2</th>\n",
       "      <td>22.222222</td>\n",
       "      <td>44.444444</td>\n",
       "      <td>66.666667</td>\n",
       "      <td>77.777778</td>\n",
       "      <td>88.888889</td>\n",
       "      <td>100.000000</td>\n",
       "    </tr>\n",
       "  </tbody>\n",
       "</table>\n",
       "</div>"
      ],
      "text/plain": [
       "                                           ccs  fuel provision  \\\n",
       "Impact category          Technology                              \n",
       "Ammonia emissions        tech1        5.555556       11.111111   \n",
       "                         tech2       11.111111       22.222222   \n",
       "Carbon monoxide emission tech1        5.555556       11.111111   \n",
       "                         tech2       22.222222       44.444444   \n",
       "Climate change           tech1        5.555556       11.111111   \n",
       "                         tech2       22.222222       44.444444   \n",
       "\n",
       "                                     infrastructure  operation  \\\n",
       "Impact category          Technology                              \n",
       "Ammonia emissions        tech1            22.222222  33.333333   \n",
       "                         tech2            38.888889  55.555556   \n",
       "Carbon monoxide emission tech1            16.666667  27.777778   \n",
       "                         tech2            66.666667  77.777778   \n",
       "Climate change           tech1            16.666667  27.777778   \n",
       "                         tech2            66.666667  77.777778   \n",
       "\n",
       "                                     pollution control  transmission  \n",
       "Impact category          Technology                                   \n",
       "Ammonia emissions        tech1               50.000000     66.666667  \n",
       "                         tech2               77.777778    100.000000  \n",
       "Carbon monoxide emission tech1               38.888889     50.000000  \n",
       "                         tech2               88.888889    100.000000  \n",
       "Climate change           tech1               38.888889     50.000000  \n",
       "                         tech2               88.888889    100.000000  "
      ]
     },
     "execution_count": 2,
     "metadata": {},
     "output_type": "execute_result"
    }
   ],
   "source": [
    "df1 = pd.read_csv('demoData_2technologies_ordered.csv', index_col=[0,1])\n",
    "df1"
   ]
  },
  {
   "cell_type": "code",
   "execution_count": 3,
   "metadata": {},
   "outputs": [
    {
     "data": {
      "text/html": [
       "<div>\n",
       "<style scoped>\n",
       "    .dataframe tbody tr th:only-of-type {\n",
       "        vertical-align: middle;\n",
       "    }\n",
       "\n",
       "    .dataframe tbody tr th {\n",
       "        vertical-align: top;\n",
       "    }\n",
       "\n",
       "    .dataframe thead th {\n",
       "        text-align: right;\n",
       "    }\n",
       "</style>\n",
       "<table border=\"1\" class=\"dataframe\">\n",
       "  <thead>\n",
       "    <tr style=\"text-align: right;\">\n",
       "      <th></th>\n",
       "      <th></th>\n",
       "      <th>err_pos</th>\n",
       "    </tr>\n",
       "    <tr>\n",
       "      <th>Impact category</th>\n",
       "      <th>Technology</th>\n",
       "      <th></th>\n",
       "    </tr>\n",
       "  </thead>\n",
       "  <tbody>\n",
       "    <tr>\n",
       "      <th>Ammonia emissions</th>\n",
       "      <th>tech1</th>\n",
       "      <td>14.097114</td>\n",
       "    </tr>\n",
       "    <tr>\n",
       "      <th>Carbon monoxide emission</th>\n",
       "      <th>tech1</th>\n",
       "      <td>18.039519</td>\n",
       "    </tr>\n",
       "    <tr>\n",
       "      <th>Climate change</th>\n",
       "      <th>tech1</th>\n",
       "      <td>23.269602</td>\n",
       "    </tr>\n",
       "    <tr>\n",
       "      <th>Ammonia emissions</th>\n",
       "      <th>tech2</th>\n",
       "      <td>25.543745</td>\n",
       "    </tr>\n",
       "    <tr>\n",
       "      <th>Carbon monoxide emission</th>\n",
       "      <th>tech2</th>\n",
       "      <td>13.260332</td>\n",
       "    </tr>\n",
       "    <tr>\n",
       "      <th>Climate change</th>\n",
       "      <th>tech2</th>\n",
       "      <td>29.931430</td>\n",
       "    </tr>\n",
       "  </tbody>\n",
       "</table>\n",
       "</div>"
      ],
      "text/plain": [
       "                                       err_pos\n",
       "Impact category          Technology           \n",
       "Ammonia emissions        tech1       14.097114\n",
       "Carbon monoxide emission tech1       18.039519\n",
       "Climate change           tech1       23.269602\n",
       "Ammonia emissions        tech2       25.543745\n",
       "Carbon monoxide emission tech2       13.260332\n",
       "Climate change           tech2       29.931430"
      ]
     },
     "execution_count": 3,
     "metadata": {},
     "output_type": "execute_result"
    }
   ],
   "source": [
    "err_pos = pd.DataFrame(index=df1.index.levels[0], columns=['tech1', 'tech2'], data=np.random.rand(3,2) * 30).reset_index()\n",
    "err_neg = pd.DataFrame(index=df1.index.levels[0], columns=['tech1', 'tech2'], data=np.random.rand(3,2) * 30).reset_index()\n",
    "err_neg = err_neg.melt(id_vars='Impact category', var_name='Technology', value_name='err_neg').set_index(['Impact category', 'Technology'])\n",
    "err_pos = err_pos.melt(id_vars='Impact category', var_name='Technology', value_name='err_pos').set_index(['Impact category', 'Technology'])\n",
    "err_pos"
   ]
  },
  {
   "cell_type": "code",
   "execution_count": 4,
   "metadata": {
    "collapsed": true
   },
   "outputs": [],
   "source": [
    "df1 = pd.concat([df1, err_neg, err_pos], axis=1).reset_index()"
   ]
  },
  {
   "cell_type": "code",
   "execution_count": 5,
   "metadata": {},
   "outputs": [
    {
     "data": {
      "text/html": [
       "<div>\n",
       "<style scoped>\n",
       "    .dataframe tbody tr th:only-of-type {\n",
       "        vertical-align: middle;\n",
       "    }\n",
       "\n",
       "    .dataframe tbody tr th {\n",
       "        vertical-align: top;\n",
       "    }\n",
       "\n",
       "    .dataframe thead th {\n",
       "        text-align: right;\n",
       "    }\n",
       "</style>\n",
       "<table border=\"1\" class=\"dataframe\">\n",
       "  <thead>\n",
       "    <tr style=\"text-align: right;\">\n",
       "      <th></th>\n",
       "      <th>Impact category</th>\n",
       "      <th>Technology</th>\n",
       "      <th>ccs</th>\n",
       "      <th>fuel provision</th>\n",
       "      <th>infrastructure</th>\n",
       "      <th>operation</th>\n",
       "      <th>pollution control</th>\n",
       "      <th>transmission</th>\n",
       "      <th>err_neg</th>\n",
       "      <th>err_pos</th>\n",
       "    </tr>\n",
       "  </thead>\n",
       "  <tbody>\n",
       "    <tr>\n",
       "      <th>0</th>\n",
       "      <td>Ammonia emissions</td>\n",
       "      <td>tech1</td>\n",
       "      <td>5.555556</td>\n",
       "      <td>11.111111</td>\n",
       "      <td>22.222222</td>\n",
       "      <td>33.333333</td>\n",
       "      <td>50.000000</td>\n",
       "      <td>66.666667</td>\n",
       "      <td>24.150660</td>\n",
       "      <td>14.097114</td>\n",
       "    </tr>\n",
       "    <tr>\n",
       "      <th>1</th>\n",
       "      <td>Ammonia emissions</td>\n",
       "      <td>tech2</td>\n",
       "      <td>11.111111</td>\n",
       "      <td>22.222222</td>\n",
       "      <td>38.888889</td>\n",
       "      <td>55.555556</td>\n",
       "      <td>77.777778</td>\n",
       "      <td>100.000000</td>\n",
       "      <td>27.652367</td>\n",
       "      <td>25.543745</td>\n",
       "    </tr>\n",
       "    <tr>\n",
       "      <th>2</th>\n",
       "      <td>Carbon monoxide emission</td>\n",
       "      <td>tech1</td>\n",
       "      <td>5.555556</td>\n",
       "      <td>11.111111</td>\n",
       "      <td>16.666667</td>\n",
       "      <td>27.777778</td>\n",
       "      <td>38.888889</td>\n",
       "      <td>50.000000</td>\n",
       "      <td>6.587600</td>\n",
       "      <td>18.039519</td>\n",
       "    </tr>\n",
       "    <tr>\n",
       "      <th>3</th>\n",
       "      <td>Carbon monoxide emission</td>\n",
       "      <td>tech2</td>\n",
       "      <td>22.222222</td>\n",
       "      <td>44.444444</td>\n",
       "      <td>66.666667</td>\n",
       "      <td>77.777778</td>\n",
       "      <td>88.888889</td>\n",
       "      <td>100.000000</td>\n",
       "      <td>28.787644</td>\n",
       "      <td>13.260332</td>\n",
       "    </tr>\n",
       "    <tr>\n",
       "      <th>4</th>\n",
       "      <td>Climate change</td>\n",
       "      <td>tech1</td>\n",
       "      <td>5.555556</td>\n",
       "      <td>11.111111</td>\n",
       "      <td>16.666667</td>\n",
       "      <td>27.777778</td>\n",
       "      <td>38.888889</td>\n",
       "      <td>50.000000</td>\n",
       "      <td>1.014931</td>\n",
       "      <td>23.269602</td>\n",
       "    </tr>\n",
       "    <tr>\n",
       "      <th>5</th>\n",
       "      <td>Climate change</td>\n",
       "      <td>tech2</td>\n",
       "      <td>22.222222</td>\n",
       "      <td>44.444444</td>\n",
       "      <td>66.666667</td>\n",
       "      <td>77.777778</td>\n",
       "      <td>88.888889</td>\n",
       "      <td>100.000000</td>\n",
       "      <td>16.506112</td>\n",
       "      <td>29.931430</td>\n",
       "    </tr>\n",
       "  </tbody>\n",
       "</table>\n",
       "</div>"
      ],
      "text/plain": [
       "            Impact category Technology        ccs  fuel provision  \\\n",
       "0         Ammonia emissions      tech1   5.555556       11.111111   \n",
       "1         Ammonia emissions      tech2  11.111111       22.222222   \n",
       "2  Carbon monoxide emission      tech1   5.555556       11.111111   \n",
       "3  Carbon monoxide emission      tech2  22.222222       44.444444   \n",
       "4            Climate change      tech1   5.555556       11.111111   \n",
       "5            Climate change      tech2  22.222222       44.444444   \n",
       "\n",
       "   infrastructure  operation  pollution control  transmission    err_neg  \\\n",
       "0       22.222222  33.333333          50.000000     66.666667  24.150660   \n",
       "1       38.888889  55.555556          77.777778    100.000000  27.652367   \n",
       "2       16.666667  27.777778          38.888889     50.000000   6.587600   \n",
       "3       66.666667  77.777778          88.888889    100.000000  28.787644   \n",
       "4       16.666667  27.777778          38.888889     50.000000   1.014931   \n",
       "5       66.666667  77.777778          88.888889    100.000000  16.506112   \n",
       "\n",
       "     err_pos  \n",
       "0  14.097114  \n",
       "1  25.543745  \n",
       "2  18.039519  \n",
       "3  13.260332  \n",
       "4  23.269602  \n",
       "5  29.931430  "
      ]
     },
     "execution_count": 5,
     "metadata": {},
     "output_type": "execute_result"
    }
   ],
   "source": [
    "df1"
   ]
  },
  {
   "cell_type": "code",
   "execution_count": 6,
   "metadata": {
    "collapsed": true
   },
   "outputs": [],
   "source": [
    "df1_tidy = df1.melt(id_vars=[ 'Impact category', 'Technology', 'err_pos', 'err_neg' ])"
   ]
  },
  {
   "cell_type": "code",
   "execution_count": 7,
   "metadata": {},
   "outputs": [
    {
     "data": {
      "text/html": [
       "<div>\n",
       "<style scoped>\n",
       "    .dataframe tbody tr th:only-of-type {\n",
       "        vertical-align: middle;\n",
       "    }\n",
       "\n",
       "    .dataframe tbody tr th {\n",
       "        vertical-align: top;\n",
       "    }\n",
       "\n",
       "    .dataframe thead th {\n",
       "        text-align: right;\n",
       "    }\n",
       "</style>\n",
       "<table border=\"1\" class=\"dataframe\">\n",
       "  <thead>\n",
       "    <tr style=\"text-align: right;\">\n",
       "      <th></th>\n",
       "      <th>Impact category</th>\n",
       "      <th>Technology</th>\n",
       "      <th>err_pos</th>\n",
       "      <th>err_neg</th>\n",
       "      <th>variable</th>\n",
       "      <th>value</th>\n",
       "    </tr>\n",
       "  </thead>\n",
       "  <tbody>\n",
       "    <tr>\n",
       "      <th>0</th>\n",
       "      <td>Ammonia emissions</td>\n",
       "      <td>tech1</td>\n",
       "      <td>14.097114</td>\n",
       "      <td>24.150660</td>\n",
       "      <td>ccs</td>\n",
       "      <td>5.555556</td>\n",
       "    </tr>\n",
       "    <tr>\n",
       "      <th>1</th>\n",
       "      <td>Ammonia emissions</td>\n",
       "      <td>tech2</td>\n",
       "      <td>25.543745</td>\n",
       "      <td>27.652367</td>\n",
       "      <td>ccs</td>\n",
       "      <td>11.111111</td>\n",
       "    </tr>\n",
       "    <tr>\n",
       "      <th>2</th>\n",
       "      <td>Carbon monoxide emission</td>\n",
       "      <td>tech1</td>\n",
       "      <td>18.039519</td>\n",
       "      <td>6.587600</td>\n",
       "      <td>ccs</td>\n",
       "      <td>5.555556</td>\n",
       "    </tr>\n",
       "    <tr>\n",
       "      <th>3</th>\n",
       "      <td>Carbon monoxide emission</td>\n",
       "      <td>tech2</td>\n",
       "      <td>13.260332</td>\n",
       "      <td>28.787644</td>\n",
       "      <td>ccs</td>\n",
       "      <td>22.222222</td>\n",
       "    </tr>\n",
       "    <tr>\n",
       "      <th>4</th>\n",
       "      <td>Climate change</td>\n",
       "      <td>tech1</td>\n",
       "      <td>23.269602</td>\n",
       "      <td>1.014931</td>\n",
       "      <td>ccs</td>\n",
       "      <td>5.555556</td>\n",
       "    </tr>\n",
       "    <tr>\n",
       "      <th>5</th>\n",
       "      <td>Climate change</td>\n",
       "      <td>tech2</td>\n",
       "      <td>29.931430</td>\n",
       "      <td>16.506112</td>\n",
       "      <td>ccs</td>\n",
       "      <td>22.222222</td>\n",
       "    </tr>\n",
       "    <tr>\n",
       "      <th>6</th>\n",
       "      <td>Ammonia emissions</td>\n",
       "      <td>tech1</td>\n",
       "      <td>14.097114</td>\n",
       "      <td>24.150660</td>\n",
       "      <td>fuel provision</td>\n",
       "      <td>11.111111</td>\n",
       "    </tr>\n",
       "    <tr>\n",
       "      <th>7</th>\n",
       "      <td>Ammonia emissions</td>\n",
       "      <td>tech2</td>\n",
       "      <td>25.543745</td>\n",
       "      <td>27.652367</td>\n",
       "      <td>fuel provision</td>\n",
       "      <td>22.222222</td>\n",
       "    </tr>\n",
       "    <tr>\n",
       "      <th>8</th>\n",
       "      <td>Carbon monoxide emission</td>\n",
       "      <td>tech1</td>\n",
       "      <td>18.039519</td>\n",
       "      <td>6.587600</td>\n",
       "      <td>fuel provision</td>\n",
       "      <td>11.111111</td>\n",
       "    </tr>\n",
       "    <tr>\n",
       "      <th>9</th>\n",
       "      <td>Carbon monoxide emission</td>\n",
       "      <td>tech2</td>\n",
       "      <td>13.260332</td>\n",
       "      <td>28.787644</td>\n",
       "      <td>fuel provision</td>\n",
       "      <td>44.444444</td>\n",
       "    </tr>\n",
       "    <tr>\n",
       "      <th>10</th>\n",
       "      <td>Climate change</td>\n",
       "      <td>tech1</td>\n",
       "      <td>23.269602</td>\n",
       "      <td>1.014931</td>\n",
       "      <td>fuel provision</td>\n",
       "      <td>11.111111</td>\n",
       "    </tr>\n",
       "    <tr>\n",
       "      <th>11</th>\n",
       "      <td>Climate change</td>\n",
       "      <td>tech2</td>\n",
       "      <td>29.931430</td>\n",
       "      <td>16.506112</td>\n",
       "      <td>fuel provision</td>\n",
       "      <td>44.444444</td>\n",
       "    </tr>\n",
       "    <tr>\n",
       "      <th>12</th>\n",
       "      <td>Ammonia emissions</td>\n",
       "      <td>tech1</td>\n",
       "      <td>14.097114</td>\n",
       "      <td>24.150660</td>\n",
       "      <td>infrastructure</td>\n",
       "      <td>22.222222</td>\n",
       "    </tr>\n",
       "    <tr>\n",
       "      <th>13</th>\n",
       "      <td>Ammonia emissions</td>\n",
       "      <td>tech2</td>\n",
       "      <td>25.543745</td>\n",
       "      <td>27.652367</td>\n",
       "      <td>infrastructure</td>\n",
       "      <td>38.888889</td>\n",
       "    </tr>\n",
       "    <tr>\n",
       "      <th>14</th>\n",
       "      <td>Carbon monoxide emission</td>\n",
       "      <td>tech1</td>\n",
       "      <td>18.039519</td>\n",
       "      <td>6.587600</td>\n",
       "      <td>infrastructure</td>\n",
       "      <td>16.666667</td>\n",
       "    </tr>\n",
       "    <tr>\n",
       "      <th>15</th>\n",
       "      <td>Carbon monoxide emission</td>\n",
       "      <td>tech2</td>\n",
       "      <td>13.260332</td>\n",
       "      <td>28.787644</td>\n",
       "      <td>infrastructure</td>\n",
       "      <td>66.666667</td>\n",
       "    </tr>\n",
       "    <tr>\n",
       "      <th>16</th>\n",
       "      <td>Climate change</td>\n",
       "      <td>tech1</td>\n",
       "      <td>23.269602</td>\n",
       "      <td>1.014931</td>\n",
       "      <td>infrastructure</td>\n",
       "      <td>16.666667</td>\n",
       "    </tr>\n",
       "    <tr>\n",
       "      <th>17</th>\n",
       "      <td>Climate change</td>\n",
       "      <td>tech2</td>\n",
       "      <td>29.931430</td>\n",
       "      <td>16.506112</td>\n",
       "      <td>infrastructure</td>\n",
       "      <td>66.666667</td>\n",
       "    </tr>\n",
       "    <tr>\n",
       "      <th>18</th>\n",
       "      <td>Ammonia emissions</td>\n",
       "      <td>tech1</td>\n",
       "      <td>14.097114</td>\n",
       "      <td>24.150660</td>\n",
       "      <td>operation</td>\n",
       "      <td>33.333333</td>\n",
       "    </tr>\n",
       "    <tr>\n",
       "      <th>19</th>\n",
       "      <td>Ammonia emissions</td>\n",
       "      <td>tech2</td>\n",
       "      <td>25.543745</td>\n",
       "      <td>27.652367</td>\n",
       "      <td>operation</td>\n",
       "      <td>55.555556</td>\n",
       "    </tr>\n",
       "    <tr>\n",
       "      <th>20</th>\n",
       "      <td>Carbon monoxide emission</td>\n",
       "      <td>tech1</td>\n",
       "      <td>18.039519</td>\n",
       "      <td>6.587600</td>\n",
       "      <td>operation</td>\n",
       "      <td>27.777778</td>\n",
       "    </tr>\n",
       "    <tr>\n",
       "      <th>21</th>\n",
       "      <td>Carbon monoxide emission</td>\n",
       "      <td>tech2</td>\n",
       "      <td>13.260332</td>\n",
       "      <td>28.787644</td>\n",
       "      <td>operation</td>\n",
       "      <td>77.777778</td>\n",
       "    </tr>\n",
       "    <tr>\n",
       "      <th>22</th>\n",
       "      <td>Climate change</td>\n",
       "      <td>tech1</td>\n",
       "      <td>23.269602</td>\n",
       "      <td>1.014931</td>\n",
       "      <td>operation</td>\n",
       "      <td>27.777778</td>\n",
       "    </tr>\n",
       "    <tr>\n",
       "      <th>23</th>\n",
       "      <td>Climate change</td>\n",
       "      <td>tech2</td>\n",
       "      <td>29.931430</td>\n",
       "      <td>16.506112</td>\n",
       "      <td>operation</td>\n",
       "      <td>77.777778</td>\n",
       "    </tr>\n",
       "    <tr>\n",
       "      <th>24</th>\n",
       "      <td>Ammonia emissions</td>\n",
       "      <td>tech1</td>\n",
       "      <td>14.097114</td>\n",
       "      <td>24.150660</td>\n",
       "      <td>pollution control</td>\n",
       "      <td>50.000000</td>\n",
       "    </tr>\n",
       "    <tr>\n",
       "      <th>25</th>\n",
       "      <td>Ammonia emissions</td>\n",
       "      <td>tech2</td>\n",
       "      <td>25.543745</td>\n",
       "      <td>27.652367</td>\n",
       "      <td>pollution control</td>\n",
       "      <td>77.777778</td>\n",
       "    </tr>\n",
       "    <tr>\n",
       "      <th>26</th>\n",
       "      <td>Carbon monoxide emission</td>\n",
       "      <td>tech1</td>\n",
       "      <td>18.039519</td>\n",
       "      <td>6.587600</td>\n",
       "      <td>pollution control</td>\n",
       "      <td>38.888889</td>\n",
       "    </tr>\n",
       "    <tr>\n",
       "      <th>27</th>\n",
       "      <td>Carbon monoxide emission</td>\n",
       "      <td>tech2</td>\n",
       "      <td>13.260332</td>\n",
       "      <td>28.787644</td>\n",
       "      <td>pollution control</td>\n",
       "      <td>88.888889</td>\n",
       "    </tr>\n",
       "    <tr>\n",
       "      <th>28</th>\n",
       "      <td>Climate change</td>\n",
       "      <td>tech1</td>\n",
       "      <td>23.269602</td>\n",
       "      <td>1.014931</td>\n",
       "      <td>pollution control</td>\n",
       "      <td>38.888889</td>\n",
       "    </tr>\n",
       "    <tr>\n",
       "      <th>29</th>\n",
       "      <td>Climate change</td>\n",
       "      <td>tech2</td>\n",
       "      <td>29.931430</td>\n",
       "      <td>16.506112</td>\n",
       "      <td>pollution control</td>\n",
       "      <td>88.888889</td>\n",
       "    </tr>\n",
       "    <tr>\n",
       "      <th>30</th>\n",
       "      <td>Ammonia emissions</td>\n",
       "      <td>tech1</td>\n",
       "      <td>14.097114</td>\n",
       "      <td>24.150660</td>\n",
       "      <td>transmission</td>\n",
       "      <td>66.666667</td>\n",
       "    </tr>\n",
       "    <tr>\n",
       "      <th>31</th>\n",
       "      <td>Ammonia emissions</td>\n",
       "      <td>tech2</td>\n",
       "      <td>25.543745</td>\n",
       "      <td>27.652367</td>\n",
       "      <td>transmission</td>\n",
       "      <td>100.000000</td>\n",
       "    </tr>\n",
       "    <tr>\n",
       "      <th>32</th>\n",
       "      <td>Carbon monoxide emission</td>\n",
       "      <td>tech1</td>\n",
       "      <td>18.039519</td>\n",
       "      <td>6.587600</td>\n",
       "      <td>transmission</td>\n",
       "      <td>50.000000</td>\n",
       "    </tr>\n",
       "    <tr>\n",
       "      <th>33</th>\n",
       "      <td>Carbon monoxide emission</td>\n",
       "      <td>tech2</td>\n",
       "      <td>13.260332</td>\n",
       "      <td>28.787644</td>\n",
       "      <td>transmission</td>\n",
       "      <td>100.000000</td>\n",
       "    </tr>\n",
       "    <tr>\n",
       "      <th>34</th>\n",
       "      <td>Climate change</td>\n",
       "      <td>tech1</td>\n",
       "      <td>23.269602</td>\n",
       "      <td>1.014931</td>\n",
       "      <td>transmission</td>\n",
       "      <td>50.000000</td>\n",
       "    </tr>\n",
       "    <tr>\n",
       "      <th>35</th>\n",
       "      <td>Climate change</td>\n",
       "      <td>tech2</td>\n",
       "      <td>29.931430</td>\n",
       "      <td>16.506112</td>\n",
       "      <td>transmission</td>\n",
       "      <td>100.000000</td>\n",
       "    </tr>\n",
       "  </tbody>\n",
       "</table>\n",
       "</div>"
      ],
      "text/plain": [
       "             Impact category Technology    err_pos    err_neg  \\\n",
       "0          Ammonia emissions      tech1  14.097114  24.150660   \n",
       "1          Ammonia emissions      tech2  25.543745  27.652367   \n",
       "2   Carbon monoxide emission      tech1  18.039519   6.587600   \n",
       "3   Carbon monoxide emission      tech2  13.260332  28.787644   \n",
       "4             Climate change      tech1  23.269602   1.014931   \n",
       "5             Climate change      tech2  29.931430  16.506112   \n",
       "6          Ammonia emissions      tech1  14.097114  24.150660   \n",
       "7          Ammonia emissions      tech2  25.543745  27.652367   \n",
       "8   Carbon monoxide emission      tech1  18.039519   6.587600   \n",
       "9   Carbon monoxide emission      tech2  13.260332  28.787644   \n",
       "10            Climate change      tech1  23.269602   1.014931   \n",
       "11            Climate change      tech2  29.931430  16.506112   \n",
       "12         Ammonia emissions      tech1  14.097114  24.150660   \n",
       "13         Ammonia emissions      tech2  25.543745  27.652367   \n",
       "14  Carbon monoxide emission      tech1  18.039519   6.587600   \n",
       "15  Carbon monoxide emission      tech2  13.260332  28.787644   \n",
       "16            Climate change      tech1  23.269602   1.014931   \n",
       "17            Climate change      tech2  29.931430  16.506112   \n",
       "18         Ammonia emissions      tech1  14.097114  24.150660   \n",
       "19         Ammonia emissions      tech2  25.543745  27.652367   \n",
       "20  Carbon monoxide emission      tech1  18.039519   6.587600   \n",
       "21  Carbon monoxide emission      tech2  13.260332  28.787644   \n",
       "22            Climate change      tech1  23.269602   1.014931   \n",
       "23            Climate change      tech2  29.931430  16.506112   \n",
       "24         Ammonia emissions      tech1  14.097114  24.150660   \n",
       "25         Ammonia emissions      tech2  25.543745  27.652367   \n",
       "26  Carbon monoxide emission      tech1  18.039519   6.587600   \n",
       "27  Carbon monoxide emission      tech2  13.260332  28.787644   \n",
       "28            Climate change      tech1  23.269602   1.014931   \n",
       "29            Climate change      tech2  29.931430  16.506112   \n",
       "30         Ammonia emissions      tech1  14.097114  24.150660   \n",
       "31         Ammonia emissions      tech2  25.543745  27.652367   \n",
       "32  Carbon monoxide emission      tech1  18.039519   6.587600   \n",
       "33  Carbon monoxide emission      tech2  13.260332  28.787644   \n",
       "34            Climate change      tech1  23.269602   1.014931   \n",
       "35            Climate change      tech2  29.931430  16.506112   \n",
       "\n",
       "             variable       value  \n",
       "0                 ccs    5.555556  \n",
       "1                 ccs   11.111111  \n",
       "2                 ccs    5.555556  \n",
       "3                 ccs   22.222222  \n",
       "4                 ccs    5.555556  \n",
       "5                 ccs   22.222222  \n",
       "6      fuel provision   11.111111  \n",
       "7      fuel provision   22.222222  \n",
       "8      fuel provision   11.111111  \n",
       "9      fuel provision   44.444444  \n",
       "10     fuel provision   11.111111  \n",
       "11     fuel provision   44.444444  \n",
       "12     infrastructure   22.222222  \n",
       "13     infrastructure   38.888889  \n",
       "14     infrastructure   16.666667  \n",
       "15     infrastructure   66.666667  \n",
       "16     infrastructure   16.666667  \n",
       "17     infrastructure   66.666667  \n",
       "18          operation   33.333333  \n",
       "19          operation   55.555556  \n",
       "20          operation   27.777778  \n",
       "21          operation   77.777778  \n",
       "22          operation   27.777778  \n",
       "23          operation   77.777778  \n",
       "24  pollution control   50.000000  \n",
       "25  pollution control   77.777778  \n",
       "26  pollution control   38.888889  \n",
       "27  pollution control   88.888889  \n",
       "28  pollution control   38.888889  \n",
       "29  pollution control   88.888889  \n",
       "30       transmission   66.666667  \n",
       "31       transmission  100.000000  \n",
       "32       transmission   50.000000  \n",
       "33       transmission  100.000000  \n",
       "34       transmission   50.000000  \n",
       "35       transmission  100.000000  "
      ]
     },
     "execution_count": 7,
     "metadata": {},
     "output_type": "execute_result"
    }
   ],
   "source": [
    "df1_tidy"
   ]
  },
  {
   "cell_type": "code",
   "execution_count": 11,
   "metadata": {},
   "outputs": [
    {
     "data": {
      "image/png": "[encoded data removed]",
      "text/plain": [
       "<Figure size 432x288 with 1 Axes>"
      ]
     },
     "metadata": {},
     "output_type": "display_data"
    }
   ],
   "source": [
    "ax, fig = lsg._plot_grouped_stackedbars_from_tidycumsum(df1_tidy, \n",
    "                                                 categories='Impact category',\n",
    "                                                 stacked_portions='variable',\n",
    "                                                 values='value',\n",
    "                                                 entities_compared='Technology')\n",
    "_ = ax.xaxis.set_label_text('Relative (%) performance')"
   ]
  },
  {
   "cell_type": "markdown",
   "metadata": {
    "collapsed": true
   },
   "source": [
    "# Robust to different order? yes"
   ]
  },
  {
   "cell_type": "code",
   "execution_count": 12,
   "metadata": {
    "collapsed": true
   },
   "outputs": [],
   "source": [
    "df2 = pd.read_csv('demoData_2technologies_disordered.csv')\n",
    "df2tidy = df2.melt(id_vars=keep, var_name='stages')"
   ]
  },
  {
   "cell_type": "code",
   "execution_count": 13,
   "metadata": {},
   "outputs": [
    {
     "data": {
      "text/plain": [
       "array(['tech2', 'tech1'], dtype=object)"
      ]
     },
     "execution_count": 13,
     "metadata": {},
     "output_type": "execute_result"
    }
   ],
   "source": [
    "df2tidy['Technology'].unique()"
   ]
  },
  {
   "cell_type": "code",
   "execution_count": 15,
   "metadata": {},
   "outputs": [
    {
     "data": {
      "text/plain": [
       "(<matplotlib.axes._subplots.AxesSubplot at 0x7f23e5af5710>,\n",
       " <Figure size 432x288 with 1 Axes>)"
      ]
     },
     "execution_count": 15,
     "metadata": {},
     "output_type": "execute_result"
    },
    {
     "data": {
      "image/png": "[encoded data removed]",
      "text/plain": [
       "<Figure size 432x288 with 1 Axes>"
      ]
     },
     "metadata": {},
     "output_type": "display_data"
    }
   ],
   "source": [
    "lsg._plot_grouped_stackedbars_from_tidycumsum(\n",
    "                             df2tidy, \n",
    "                             categories='Impact category', \n",
    "                             stacked_portions='stages', \n",
    "                             values='value', \n",
    "                             entities_compared='Technology')"
   ]
  },
  {
   "cell_type": "markdown",
   "metadata": {
    "collapsed": true
   },
   "source": [
    "# 3 technologies compared"
   ]
  },
  {
   "cell_type": "code",
   "execution_count": 16,
   "metadata": {
    "collapsed": true
   },
   "outputs": [],
   "source": [
    "df3 = pd.read_csv('demoData_3technologies_ordered.csv')\n",
    "df3tidy = df3.melt(id_vars=keep, var_name='stages')"
   ]
  },
  {
   "cell_type": "code",
   "execution_count": 18,
   "metadata": {},
   "outputs": [
    {
     "data": {
      "text/plain": [
       "(<matplotlib.axes._subplots.AxesSubplot at 0x7f23e59b6e10>,\n",
       " <Figure size 432x288 with 1 Axes>)"
      ]
     },
     "execution_count": 18,
     "metadata": {},
     "output_type": "execute_result"
    },
    {
     "data": {
      "image/png": "[encoded data removed]",
      "text/plain": [
       "<Figure size 432x288 with 1 Axes>"
      ]
     },
     "metadata": {},
     "output_type": "display_data"
    }
   ],
   "source": [
    "lsg._plot_grouped_stackedbars_from_tidycumsum(df3tidy, categories='Impact category', \n",
    "                             stacked_portions='stages', \n",
    "                             values='value', \n",
    "                             entities_compared='Technology', orient='h')"
   ]
  },
  {
   "cell_type": "markdown",
   "metadata": {},
   "source": [
    "# N technologies compared"
   ]
  },
  {
   "cell_type": "code",
   "execution_count": 20,
   "metadata": {},
   "outputs": [
    {
     "data": {
      "text/plain": [
       "(<matplotlib.axes._subplots.AxesSubplot at 0x7f23e5996358>,\n",
       " <Figure size 432x288 with 1 Axes>)"
      ]
     },
     "execution_count": 20,
     "metadata": {},
     "output_type": "execute_result"
    },
    {
     "data": {
      "image/png": "[encoded data removed]",
      "text/plain": [
       "<Figure size 432x288 with 1 Axes>"
      ]
     },
     "metadata": {},
     "output_type": "display_data"
    }
   ],
   "source": [
    "df4 = pd.read_csv('demoData_ntechnologies_ordered.csv')\n",
    "df4tidy = df4.melt(id_vars=keep, var_name='stages')\n",
    "lsg._plot_grouped_stackedbars_from_tidycumsum(df4tidy, categories='Impact category', \n",
    "                             stacked_portions='stages', \n",
    "                             values='value', \n",
    "                             entities_compared='Technology', orient='h')"
   ]
  },
  {
   "cell_type": "markdown",
   "metadata": {},
   "source": [
    "### Summary results: Impact per life cycle stage"
   ]
  },
  {
   "cell_type": "markdown",
   "metadata": {},
   "source": [
    "#### For one scenario, tabular:"
   ]
  },
  {
   "cell_type": "code",
   "execution_count": null,
   "metadata": {
    "collapsed": true
   },
   "outputs": [],
   "source": [
    "def calc_total_lcstage_impacts(df):\n",
    "    return pd.crosstab(index=df['Impact category'],\n",
    "                     columns=df['Life cycle stage'],\n",
    "                     values=df['Impact'],\n",
    "                     aggfunc='sum',\n",
    "                     margins=True,\n",
    "                     margins_name='Total').iloc[:-1, :]"
   ]
  },
  {
   "cell_type": "code",
   "execution_count": null,
   "metadata": {
    "collapsed": true
   },
   "outputs": [],
   "source": [
    "def build_comparison_table(df1, df2, name1, name2, fillna=None):\n",
    "    \n",
    "    column_name = 'Technology'\n",
    "    a = calc_total_lcstage_impacts(df1)\n",
    "    a.insert(0, column_name, name1, allow_duplicates=True)\n",
    "\n",
    "    b = calc_total_lcstage_impacts(df2)\n",
    "    b.insert(0, column_name, name2, allow_duplicates=True)\n",
    "    comp = pd.concat([a,b], sort=False)\n",
    "    comp.sort_index(inplace=True)\n",
    "    comp.set_index('Technology', append=True, inplace=True)\n",
    "\n",
    "    if fillna is not None:\n",
    "        comp.fillna(fillna, inplace=True)\n",
    "        \n",
    "    return comp\n"
   ]
  },
  {
   "cell_type": "code",
   "execution_count": 21,
   "metadata": {},
   "outputs": [
    {
     "ename": "NameError",
     "evalue": "name 'build_comparison_table' is not defined",
     "output_type": "error",
     "traceback": [
      "\u001b[0;31m---------------------------------------------------------------------------\u001b[0m",
      "\u001b[0;31mNameError\u001b[0m                                 Traceback (most recent call last)",
      "\u001b[0;32m<ipython-input-21-3c3ffbacfa2a>\u001b[0m in \u001b[0;36m<module>\u001b[0;34m()\u001b[0m\n\u001b[0;32m----> 1\u001b[0;31m \u001b[0mcomp\u001b[0m \u001b[0;34m=\u001b[0m \u001b[0mbuild_comparison_table\u001b[0m\u001b[0;34m(\u001b[0m\u001b[0mtidy_df_static_1\u001b[0m\u001b[0;34m,\u001b[0m \u001b[0mtidy_df_static_2\u001b[0m\u001b[0;34m,\u001b[0m \u001b[0;34m'tech1'\u001b[0m\u001b[0;34m,\u001b[0m \u001b[0;34m'tech2'\u001b[0m\u001b[0;34m,\u001b[0m \u001b[0mfillna\u001b[0m\u001b[0;34m=\u001b[0m\u001b[0;36m0.0\u001b[0m\u001b[0;34m)\u001b[0m\u001b[0;34m\u001b[0m\u001b[0m\n\u001b[0m",
      "\u001b[0;31mNameError\u001b[0m: name 'build_comparison_table' is not defined"
     ]
    }
   ],
   "source": [
    "comp = build_comparison_table(tidy_df_static_1, tidy_df_static_2, 'tech1', 'tech2', fillna=0.0)"
   ]
  },
  {
   "cell_type": "code",
   "execution_count": null,
   "metadata": {
    "collapsed": true
   },
   "outputs": [],
   "source": [
    "foo = comp.head(6)\n",
    "foo = foo.reset_index()\n",
    "foo"
   ]
  },
  {
   "cell_type": "code",
   "execution_count": null,
   "metadata": {
    "collapsed": true
   },
   "outputs": [],
   "source": [
    "foo = foo.reset_index()\n",
    "foo.to_excel('dummy_data.xlsx')\n",
    "foo = foo.set_index(['Impact category', 'Technology'])"
   ]
  },
  {
   "cell_type": "code",
   "execution_count": null,
   "metadata": {
    "collapsed": true
   },
   "outputs": [],
   "source": [
    "foo = pd.read_excel('dummy_data.xlsx')\n",
    "foo"
   ]
  },
  {
   "cell_type": "code",
   "execution_count": null,
   "metadata": {
    "collapsed": true
   },
   "outputs": [],
   "source": [
    "max_imp = foo.loc[:, ['Impact category', 'Total']].groupby('Impact category').max()\n",
    "max_imp = max_imp.squeeze()\n",
    "foo = foo.set_index(['Impact category', 'Technology'])\n",
    "foo"
   ]
  },
  {
   "cell_type": "code",
   "execution_count": null,
   "metadata": {
    "collapsed": true
   },
   "outputs": [],
   "source": [
    "max_imp = max_imp.reindex(foo.index, level='Impact category')\n",
    "max_imp"
   ]
  },
  {
   "cell_type": "code",
   "execution_count": null,
   "metadata": {
    "collapsed": true
   },
   "outputs": [],
   "source": [
    "foo = foo.divide(max_imp, axis=0) * 100"
   ]
  },
  {
   "cell_type": "code",
   "execution_count": null,
   "metadata": {
    "collapsed": true
   },
   "outputs": [],
   "source": [
    "foo = foo.drop('Total', axis=1)"
   ]
  },
  {
   "cell_type": "code",
   "execution_count": null,
   "metadata": {
    "collapsed": true
   },
   "outputs": [],
   "source": [
    "fou = foo.cumsum(axis=1)\n",
    "fou = fou.reset_index()"
   ]
  },
  {
   "cell_type": "code",
   "execution_count": null,
   "metadata": {
    "collapsed": true
   },
   "outputs": [],
   "source": [
    "fou.to_csv('demoData_2technologies_ordered.csv')"
   ]
  },
  {
   "cell_type": "code",
   "execution_count": null,
   "metadata": {
    "collapsed": true
   },
   "outputs": [],
   "source": [
    "stages = [i for i in fou.columns.tolist() if i not in  ['Impact category', 'Technology']]\n",
    "stages_rev = [i for i in reversed(stages)]    "
   ]
  },
  {
   "cell_type": "code",
   "execution_count": null,
   "metadata": {
    "collapsed": true,
    "scrolled": true
   },
   "outputs": [],
   "source": [
    "fou_tidy = pd.melt(fou, id_vars=['Impact category', 'Technology'])"
   ]
  },
  {
   "cell_type": "code",
   "execution_count": null,
   "metadata": {
    "collapsed": true
   },
   "outputs": [],
   "source": [
    "\n",
    "fou_tidy['variable']"
   ]
  },
  {
   "cell_type": "code",
   "execution_count": null,
   "metadata": {
    "collapsed": true
   },
   "outputs": [],
   "source": [
    "from matplotlib.patches import Patch\n",
    "\n",
    "-\n",
    "plt.show()"
   ]
  },
  {
   "cell_type": "code",
   "execution_count": null,
   "metadata": {
    "collapsed": true
   },
   "outputs": [],
   "source": [
    "legend_elements.reverse()"
   ]
  },
  {
   "cell_type": "code",
   "execution_count": null,
   "metadata": {
    "collapsed": true,
    "scrolled": true
   },
   "outputs": [],
   "source": [
    "g[1]"
   ]
  },
  {
   "cell_type": "code",
   "execution_count": null,
   "metadata": {
    "collapsed": true
   },
   "outputs": [],
   "source": [
    "summary = pd.crosstab(index=tidy_df_static_1['Impact category'],\n",
    "                     columns=tidy_df_static_1['Life cycle stage'],\n",
    "                     values=tidy_df_static_1['Impact'],\n",
    "                     aggfunc='sum',\n",
    "                     margins=True,\n",
    "                     margins_name='Total').iloc[:-1, :]\n",
    "summary.tail()"
   ]
  },
  {
   "cell_type": "code",
   "execution_count": null,
   "metadata": {
    "collapsed": true
   },
   "outputs": [],
   "source": [
    "np.allclose(summary, summary2)"
   ]
  },
  {
   "cell_type": "markdown",
   "metadata": {},
   "source": [
    "NOTE: we will add columns with precentiles from `tidy_df_stochastic`"
   ]
  },
  {
   "cell_type": "markdown",
   "metadata": {},
   "source": [
    "#### For two scenarios, tabular (OUTPUT IN GUI)\n",
    "\n",
    "Similar to above, but repeated for other scenario (there are always two scenarios)"
   ]
  },
  {
   "cell_type": "markdown",
   "metadata": {},
   "source": [
    "#### For two scenarios, graphic\n",
    "\n",
    "Same results, but as stacked bars (stack life cycle stages). \n",
    "\n",
    "Bars in pairs ('scen1', 'scen2'), normalized to scenario with highest impacts for given impact category.\n",
    "\n",
    "As may pairs as there are impact categories. **We need to determine how many categories we can fit, we will have to limit the number for sure**)\n",
    "\n",
    "Display impact category labels.\n",
    "\n",
    "Legend = Life cycle stages.\n",
    "\n"
   ]
  }
 ],
 "metadata": {
  "kernelspec": {
   "display_name": "Python 3",
   "language": "python",
   "name": "python3"
  },
  "language_info": {
   "codemirror_mode": {
    "name": "ipython",
    "version": 3
   },
   "file_extension": ".py",
   "mimetype": "text/x-python",
   "name": "python",
   "nbconvert_exporter": "python",
   "pygments_lexer": "ipython3",
   "version": "3.5.3"
  },
  "toc": {
   "nav_menu": {},
   "number_sections": true,
   "sideBar": true,
   "skip_h1_title": false,
   "title_cell": "Table of Contents",
   "title_sidebar": "Contents",
   "toc_cell": false,
   "toc_position": {},
   "toc_section_display": true,
   "toc_window_display": false
  },
  "varInspector": {
   "cols": {
    "lenName": 16,
    "lenType": 16,
    "lenVar": 40
   },
   "kernels_config": {
    "python": {
     "delete_cmd_postfix": "",
     "delete_cmd_prefix": "del ",
     "library": "var_list.py",
     "varRefreshCmd": "print(var_dic_list())"
    },
    "r": {
     "delete_cmd_postfix": ") ",
     "delete_cmd_prefix": "rm(",
     "library": "var_list.r",
     "varRefreshCmd": "cat(var_dic_list()) "
    }
   },
   "types_to_exclude": [
    "module",
    "function",
    "builtin_function_or_method",
    "instance",
    "_Feature"
   ],
   "window_display": false
  }
 },
 "nbformat": 4,
 "nbformat_minor": 2
}
