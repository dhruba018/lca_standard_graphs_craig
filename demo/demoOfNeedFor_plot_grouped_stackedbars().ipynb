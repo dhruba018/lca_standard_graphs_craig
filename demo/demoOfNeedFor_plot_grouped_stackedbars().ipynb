{
 "cells": [
  {
   "cell_type": "markdown",
   "metadata": {},
   "source": [
    "# Demo of the need for the `plot_grouped_stackedbars()`\n",
    "## Comparison with other techniques\n",
    "\n",
    "There are already solutions to produce grouped stacked-bar graphs on [stackoverflow(https://stackoverflow.com/a/22845857) using seaborn. These have served as excellent inspirations for the present module. These techniques, however, have some major shortcomings. \n",
    "\n",
    "As noted by the contributor (@jrjc):\n",
    "- the \"light\" shading is too pale if only two or three categories are needed. It makes color series (pale blue, blue, dark blue, etc.) difficult to distinguish.\n",
    "- The legend is not produced to distinguish the meaning of the shadings (\"pale\" means what?)\n",
    "\n",
    "**Most importantly**, though, the *author's code only works if the columns of the dataframe are sorted alphabetically.* Contrast the original code (with columns 'I', 'J', 'K', etc.) with the modified version with columns renamed 'zI', 'yJ', 'xK', etc.\n",
    "\n",
    "## The original demo on stackoverflow"
   ]
  },
  {
   "cell_type": "code",
   "execution_count": 1,
   "metadata": {},
   "outputs": [],
   "source": [
    "import pandas as pd\n",
    "import numpy as np\n",
    "import seaborn as sns\n",
    "\n",
    "# create fake dataframes\n",
    "df1 = pd.DataFrame(np.random.rand(4, 5),\n",
    "                   index=[\"A\", \"B\", \"C\", \"D\"],\n",
    "                   columns=[\"I\", \"J\", \"K\", \"L\", \"M\"])\n",
    "df2 = pd.DataFrame(np.random.rand(4, 5),\n",
    "                   index=[\"A\", \"B\", \"C\", \"D\"],\n",
    "                   columns=[\"I\", \"J\", \"K\", \"L\", \"M\"])\n",
    "df3 = pd.DataFrame(np.random.rand(4, 5),\n",
    "                   index=[\"A\", \"B\", \"C\", \"D\"], \n",
    "                   columns=[\"I\", \"J\", \"K\", \"L\", \"M\"])\n",
    "\n",
    "df1[\"Name\"] = \"df1\"\n",
    "df2[\"Name\"] = \"df2\"\n",
    "df3[\"Name\"] = \"df3\"\n",
    "dfall = pd.concat([pd.melt(i.reset_index(),\n",
    "                           id_vars=[\"Name\", \"index\"]) # transform in tidy format each df\n",
    "                   for i in [df1, df2, df3]],\n",
    "                   ignore_index=True)\n",
    "\n",
    "dfall.set_index([\"Name\", \"index\", \"variable\"], inplace=True)\n",
    "dfall[\"vcs\"] = dfall.groupby(level=[\"Name\", \"index\"]).cumsum()\n",
    "dfall.reset_index(inplace=True) "
   ]
  },
  {
   "cell_type": "code",
   "execution_count": 2,
   "metadata": {},
   "outputs": [
    {
     "data": {
      "image/png": "[encoded data removed]",
      "text/plain": [
       "<Figure size 432x288 with 1 Axes>"
      ]
     },
     "metadata": {},
     "output_type": "display_data"
    }
   ],
   "source": [
    "c = [\"blue\", \"purple\", \"red\", \"green\", \"pink\"]\n",
    "for i, g in enumerate(dfall.groupby(\"variable\")):\n",
    "    ax = sns.barplot(data=g[1],\n",
    "                     x=\"index\",\n",
    "                     y=\"vcs\",\n",
    "                     hue=\"Name\",\n",
    "                     color=c[i],\n",
    "                     zorder=-i, # so first bars stay on top\n",
    "                     edgecolor=\"k\")\n",
    "ax.legend_.remove() # remove the redundant legends "
   ]
  },
  {
   "cell_type": "markdown",
   "metadata": {},
   "source": [
    "## And now with columns renamed anti-aphabetically"
   ]
  },
  {
   "cell_type": "code",
   "execution_count": 3,
   "metadata": {},
   "outputs": [],
   "source": [
    "# create fake dataframes\n",
    "df1 = pd.DataFrame(np.random.rand(4, 5),\n",
    "                   index=[\"A\", \"B\", \"C\", \"D\"],\n",
    "                   columns=[\"zI\", \"yJ\", \"xK\", \"wL\", \"vM\"])  # <--- Note sole difference\n",
    "df2 = pd.DataFrame(np.random.rand(4, 5),\n",
    "                   index=[\"A\", \"B\", \"C\", \"D\"],\n",
    "                   columns=[\"zI\", \"yJ\", \"xK\", \"wL\", \"vM\"])\n",
    "df3 = pd.DataFrame(np.random.rand(4, 5),\n",
    "                   index=[\"A\", \"B\", \"C\", \"D\"], \n",
    "                   columns=[\"zI\", \"yJ\", \"xK\", \"wL\", \"vM\"])\n",
    "\n",
    "df1[\"Name\"] = \"df1\"\n",
    "df2[\"Name\"] = \"df2\"\n",
    "df3[\"Name\"] = \"df3\"\n",
    "dfall = pd.concat([pd.melt(i.reset_index(),\n",
    "                           id_vars=[\"Name\", \"index\"]) # transform in tidy format each df\n",
    "                   for i in [df1, df2, df3]],\n",
    "                   ignore_index=True)\n",
    "\n",
    "dfall.set_index([\"Name\", \"index\", \"variable\"], inplace=True)\n",
    "dfall[\"vcs\"] = dfall.groupby(level=[\"Name\", \"index\"]).cumsum()\n",
    "dfall.reset_index(inplace=True) "
   ]
  },
  {
   "cell_type": "code",
   "execution_count": 4,
   "metadata": {},
   "outputs": [
    {
     "data": {
      "image/png": "[encoded data removed]",
      "text/plain": [
       "<Figure size 432x288 with 1 Axes>"
      ]
     },
     "metadata": {},
     "output_type": "display_data"
    }
   ],
   "source": [
    "c = [\"blue\", \"purple\", \"red\", \"green\", \"pink\"]\n",
    "for i, g in enumerate(dfall.groupby(\"variable\")):\n",
    "    ax = sns.barplot(data=g[1],\n",
    "                     x=\"index\",\n",
    "                     y=\"vcs\",\n",
    "                     hue=\"Name\",\n",
    "                     color=c[i],\n",
    "                     zorder=-i, # so first bars stay on top\n",
    "                     edgecolor=\"k\")\n",
    "ax.legend_.remove() # remove the redundant legends "
   ]
  },
  {
   "cell_type": "markdown",
   "metadata": {},
   "source": [
    "### What went wrong?\n",
    "\n",
    "Because the solution generates the illusion of \"stacked bars\" by putting smaller bars in front of larger bars, the order crucially matters, and the `groupby` statement in the code screws this up if the columns are not ordered alphabetically. It is quite obvious in the above example, but on less obvious inversions may go unnoticed, which could lead to misinterpretations."
   ]
  }
 ],
 "metadata": {
  "kernelspec": {
   "display_name": "Python 3",
   "language": "python",
   "name": "python3"
  },
  "language_info": {
   "codemirror_mode": {
    "name": "ipython",
    "version": 3
   },
   "file_extension": ".py",
   "mimetype": "text/x-python",
   "name": "python",
   "nbconvert_exporter": "python",
   "pygments_lexer": "ipython3",
   "version": "3.6.7"
  }
 },
 "nbformat": 4,
 "nbformat_minor": 2
}
